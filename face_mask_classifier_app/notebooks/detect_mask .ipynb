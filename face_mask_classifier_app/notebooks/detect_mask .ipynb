{
  "nbformat": 4,
  "nbformat_minor": 0,
  "metadata": {
    "language_info": {
      "codemirror_mode": {
        "name": "ipython",
        "version": 3
      },
      "file_extension": ".py",
      "mimetype": "text/x-python",
      "name": "python",
      "nbconvert_exporter": "python",
      "pygments_lexer": "ipython3",
      "version": "3.8.5"
    },
    "orig_nbformat": 4,
    "kernelspec": {
      "name": "python3",
      "display_name": "Python 3.8.5 64-bit ('localPythonEnv': venv)"
    },
    "interpreter": {
      "hash": "1d4c39e84a00ae3132ad252464a9436a57793414910ce0cf60240e4a7f673481"
    },
    "colab": {
      "name": "detect_mask.ipynb",
      "provenance": [],
      "collapsed_sections": []
    }
  },
  "cells": [
    {
      "cell_type": "code",
      "metadata": {
        "colab": {
          "base_uri": "https://localhost:8080/",
          "height": 433
        },
        "id": "7aFPAOjUg2To",
        "outputId": "2acd6bf0-afef-46a9-9a91-d532322d6bb5"
      },
      "source": [
        "\n",
        "# USAGE\n",
        "# python detect_mask_image.py --image examples/example_01.png\n",
        "\n",
        "# import the necessary packages\n",
        "#from tensorflow.keras.applications.mobilenet_v2 import preprocess_input\n",
        "#from tensorflow.keras.preprocessing.image import img_to_array\n",
        "#from tensorflow.keras.models import load_model\n",
        "import tensorflow as tf\n",
        "import numpy as np\n",
        "import argparse\n",
        "import cv2\n",
        "import os\n",
        "from keras_facenet import FaceNet\n",
        "import pickle\n",
        "tf.compat.v1.logging.set_verbosity(tf.compat.v1.logging.ERROR)\n",
        "from google.colab.patches import cv2_imshow\n",
        "import cv2\n",
        "\n",
        "# construct the argument parser and parse the argumen#ts\n",
        "#ap = argparse.ArgumentParser()\n",
        "##ap.add_argument(\"-i\", \"--image\", required=True,\n",
        "\t##help=\"path to input image\")\n",
        "#ap.add_argument(\"-f\", \"--face\", type=str,\n",
        "#\tdefault=\"face_detector\",\n",
        "#\thelp=\"path to face detector model directory\")\n",
        "#ap.add_argument(\"-m\", \"--model\", type=str,\n",
        "#\tdefault=\"mask_detector.model\",\n",
        "#\thelp=\"path to trained face mask detector model\")\n",
        "#ap.add_argument(\"-c\", \"--confidence\", type=float, default=0.5,\n",
        "#\thelp=\"minimum probability to filter weak detections\")\n",
        "#args = vars(ap.parse_args())\n",
        "\n",
        "\n",
        "#load facenet models\n",
        "print(\"[INFO] loading face detector model...\")\n",
        "face_detect_model=FaceNet()\n",
        "\n",
        "#load mask classifier models\n",
        "print(\"[INFO] loading face mask detector model...\")\n",
        "#model = load_model(args[\"model\"])\n",
        "model = pickle.load(open('/content/drive/MyDrive/project2/models/svm_keral_classifier_final_model.sav', 'rb'))\n",
        "\n",
        "embed_list_test=[]\n",
        "face_box_list=[]\n",
        "face_confidence_list=[]\n",
        "\n",
        "# load the input image from disk\n",
        "image = '/content/drive/MyDrive/project2/Input/test/without_mask/93.jpg'\n",
        "img=cv2.imread('/content/drive/MyDrive/project2/Input/test/without_mask/93.jpg')\n",
        "faces_array_train = face_detect_model.extract(image, threshold=0.95)\n",
        "for j in range(len(faces_array_train)):\n",
        "    face_embed_dict=faces_array_train[j]\n",
        "    face_embed=face_embed_dict['embedding']\n",
        "    face_confidence=face_embed_dict['confidence']\n",
        "    face_box=face_embed_dict['box']\n",
        "    embed_list_test.append(face_embed)\n",
        "    face_box_list.append(face_box)\n",
        "    face_confidence_list.append(face_confidence)\n",
        "\n",
        "face=np.array(embed_list_test)\n",
        "#for i in range(len(face)):\n",
        "label_pred = model.predict(face)\n",
        "proba = model.predict_proba(face)\n",
        "if label_pred == 0:\n",
        "    label = \"Mask\"\n",
        "else:\n",
        "    label= \"No Mask\"\n",
        "\n",
        "if label=='Mask':\n",
        "  proba= proba[0][0]\n",
        "else:\n",
        "  proba=proba[0][1]\n",
        "\n",
        "color = (0, 255, 0) if label == \"Mask\" else (0, 0, 255)\n",
        "print(face_box_list)\n",
        "X=face_box_list[0][0]\n",
        "Y=face_box_list[0][1]\n",
        "w=face_box_list[0][2]\n",
        "h=face_box_list[0][3]\n",
        "(X, Y) = max(0, X), max(0, Y)\n",
        "endX = max(w - 1, X+w)\n",
        "endY= max(h - 1, Y+h)\n",
        "#include the probability in the label\n",
        "label = \"{}: {:.2f}%\".format(label, proba * 100)\n",
        "#print(label)\n",
        "cv2.putText(img, label, (X, Y - 10),\n",
        "cv2.FONT_HERSHEY_SIMPLEX, 0.45, color, 2)\n",
        "cv2.rectangle(img, (X, Y), (endX, endY), color, 2)\n",
        "\n",
        "# show the output image\n",
        "cv2_imshow(img)\n",
        "cv2.waitKey(0)"
      ],
      "execution_count": 14,
      "outputs": [
        {
          "output_type": "error",
          "ename": "ModuleNotFoundError",
          "evalue": "No module named 'google.colab'",
          "traceback": [
            "\u001b[0;31m---------------------------------------------------------------------------\u001b[0m",
            "\u001b[0;31mModuleNotFoundError\u001b[0m                       Traceback (most recent call last)",
            "\u001b[0;32m<ipython-input-14-329933c9534e>\u001b[0m in \u001b[0;36m<module>\u001b[0;34m\u001b[0m\n\u001b[1;32m     14\u001b[0m \u001b[0;32mimport\u001b[0m \u001b[0mpickle\u001b[0m\u001b[0;34m\u001b[0m\u001b[0;34m\u001b[0m\u001b[0m\n\u001b[1;32m     15\u001b[0m \u001b[0mtf\u001b[0m\u001b[0;34m.\u001b[0m\u001b[0mcompat\u001b[0m\u001b[0;34m.\u001b[0m\u001b[0mv1\u001b[0m\u001b[0;34m.\u001b[0m\u001b[0mlogging\u001b[0m\u001b[0;34m.\u001b[0m\u001b[0mset_verbosity\u001b[0m\u001b[0;34m(\u001b[0m\u001b[0mtf\u001b[0m\u001b[0;34m.\u001b[0m\u001b[0mcompat\u001b[0m\u001b[0;34m.\u001b[0m\u001b[0mv1\u001b[0m\u001b[0;34m.\u001b[0m\u001b[0mlogging\u001b[0m\u001b[0;34m.\u001b[0m\u001b[0mERROR\u001b[0m\u001b[0;34m)\u001b[0m\u001b[0;34m\u001b[0m\u001b[0;34m\u001b[0m\u001b[0m\n\u001b[0;32m---> 16\u001b[0;31m \u001b[0;32mfrom\u001b[0m \u001b[0mgoogle\u001b[0m\u001b[0;34m.\u001b[0m\u001b[0mcolab\u001b[0m\u001b[0;34m.\u001b[0m\u001b[0mpatches\u001b[0m \u001b[0;32mimport\u001b[0m \u001b[0mcv2_imshow\u001b[0m\u001b[0;34m\u001b[0m\u001b[0;34m\u001b[0m\u001b[0m\n\u001b[0m\u001b[1;32m     17\u001b[0m \u001b[0;32mimport\u001b[0m \u001b[0mcv2\u001b[0m\u001b[0;34m\u001b[0m\u001b[0;34m\u001b[0m\u001b[0m\n\u001b[1;32m     18\u001b[0m \u001b[0;34m\u001b[0m\u001b[0m\n",
            "\u001b[0;31mModuleNotFoundError\u001b[0m: No module named 'google.colab'"
          ]
        }
      ]
    },
    {
      "cell_type": "code",
      "metadata": {
        "colab": {
          "base_uri": "https://localhost:8080/"
        },
        "id": "QCWMoOb-hO0p",
        "outputId": "0234c006-5043-4c29-f087-2fb05ce822d6"
      },
      "source": [
        "from google.colab import drive\n",
        "drive.mount('/content/drive')"
      ],
      "execution_count": 1,
      "outputs": [
        {
          "output_type": "stream",
          "text": [
            "Mounted at /content/drive\n"
          ],
          "name": "stdout"
        }
      ]
    },
    {
      "cell_type": "code",
      "metadata": {
        "colab": {
          "base_uri": "https://localhost:8080/"
        },
        "id": "qT2l6N_ig2Ty",
        "outputId": "0ac910ca-9519-4a9c-c140-4cfe97e9cbe0"
      },
      "source": [
        "!pip install keras-facenet"
      ],
      "execution_count": 3,
      "outputs": [
        {
          "output_type": "stream",
          "text": [
            "Collecting keras-facenet\n",
            "  Downloading https://files.pythonhosted.org/packages/6a/c5/6fadf919a86c44b87ba9d8134cc83820b8fa8a98f5c68ff676179e052839/keras-facenet-0.3.2.tar.gz\n",
            "Collecting mtcnn\n",
            "\u001b[?25l  Downloading https://files.pythonhosted.org/packages/67/43/abee91792797c609c1bf30f1112117f7a87a713ebaa6ec5201d5555a73ef/mtcnn-0.1.0-py3-none-any.whl (2.3MB)\n",
            "\u001b[K     |████████████████████████████████| 2.3MB 5.1MB/s \n",
            "\u001b[?25hRequirement already satisfied: keras>=2.0.0 in /usr/local/lib/python3.7/dist-packages (from mtcnn->keras-facenet) (2.4.3)\n",
            "Requirement already satisfied: opencv-python>=4.1.0 in /usr/local/lib/python3.7/dist-packages (from mtcnn->keras-facenet) (4.1.2.30)\n",
            "Requirement already satisfied: scipy>=0.14 in /usr/local/lib/python3.7/dist-packages (from keras>=2.0.0->mtcnn->keras-facenet) (1.4.1)\n",
            "Requirement already satisfied: pyyaml in /usr/local/lib/python3.7/dist-packages (from keras>=2.0.0->mtcnn->keras-facenet) (3.13)\n",
            "Requirement already satisfied: numpy>=1.9.1 in /usr/local/lib/python3.7/dist-packages (from keras>=2.0.0->mtcnn->keras-facenet) (1.19.5)\n",
            "Requirement already satisfied: h5py in /usr/local/lib/python3.7/dist-packages (from keras>=2.0.0->mtcnn->keras-facenet) (3.1.0)\n",
            "Requirement already satisfied: cached-property; python_version < \"3.8\" in /usr/local/lib/python3.7/dist-packages (from h5py->keras>=2.0.0->mtcnn->keras-facenet) (1.5.2)\n",
            "Building wheels for collected packages: keras-facenet\n",
            "  Building wheel for keras-facenet (setup.py) ... \u001b[?25l\u001b[?25hdone\n",
            "  Created wheel for keras-facenet: filename=keras_facenet-0.3.2-cp37-none-any.whl size=10386 sha256=f00f8059f0498ba3cbd2df6ab9ceb005d9fa163ff13d93e79ccaf211c40665b1\n",
            "  Stored in directory: /root/.cache/pip/wheels/f6/53/9a/36c4b52fd22faf4f710d5047d874655b85a1b2cf77accfb9bd\n",
            "Successfully built keras-facenet\n",
            "Installing collected packages: mtcnn, keras-facenet\n",
            "Successfully installed keras-facenet-0.3.2 mtcnn-0.1.0\n"
          ],
          "name": "stdout"
        }
      ]
    },
    {
      "cell_type": "code",
      "metadata": {
        "colab": {
          "base_uri": "https://localhost:8080/"
        },
        "id": "HBNVjNPYi7iN",
        "outputId": "e73eabef-2c91-4b78-a436-83a2c2ea7906"
      },
      "source": [
        "import sklearn\n",
        "print(sklearn.__version__)"
      ],
      "execution_count": null,
      "outputs": [
        {
          "output_type": "stream",
          "text": [
            "0.22.2.post1\n"
          ],
          "name": "stdout"
        }
      ]
    },
    {
      "cell_type": "code",
      "metadata": {
        "colab": {
          "base_uri": "https://localhost:8080/"
        },
        "id": "qXDrznKXjHvf",
        "outputId": "e14f15e3-e9ce-4f03-873c-6c0ba7b89cc8"
      },
      "source": [
        "!pip install scikit-learn==0.24.2"
      ],
      "execution_count": 4,
      "outputs": [
        {
          "output_type": "stream",
          "text": [
            "Collecting scikit-learn==0.24.2\n",
            "\u001b[?25l  Downloading https://files.pythonhosted.org/packages/a8/eb/a48f25c967526b66d5f1fa7a984594f0bf0a5afafa94a8c4dbc317744620/scikit_learn-0.24.2-cp37-cp37m-manylinux2010_x86_64.whl (22.3MB)\n",
            "\u001b[K     |████████████████████████████████| 22.3MB 128kB/s \n",
            "\u001b[?25hRequirement already satisfied: numpy>=1.13.3 in /usr/local/lib/python3.7/dist-packages (from scikit-learn==0.24.2) (1.19.5)\n",
            "Requirement already satisfied: scipy>=0.19.1 in /usr/local/lib/python3.7/dist-packages (from scikit-learn==0.24.2) (1.4.1)\n",
            "Collecting threadpoolctl>=2.0.0\n",
            "  Downloading https://files.pythonhosted.org/packages/f7/12/ec3f2e203afa394a149911729357aa48affc59c20e2c1c8297a60f33f133/threadpoolctl-2.1.0-py3-none-any.whl\n",
            "Requirement already satisfied: joblib>=0.11 in /usr/local/lib/python3.7/dist-packages (from scikit-learn==0.24.2) (1.0.1)\n",
            "Installing collected packages: threadpoolctl, scikit-learn\n",
            "  Found existing installation: scikit-learn 0.22.2.post1\n",
            "    Uninstalling scikit-learn-0.22.2.post1:\n",
            "      Successfully uninstalled scikit-learn-0.22.2.post1\n",
            "Successfully installed scikit-learn-0.24.2 threadpoolctl-2.1.0\n"
          ],
          "name": "stdout"
        }
      ]
    },
    {
      "cell_type": "code",
      "metadata": {
        "colab": {
          "base_uri": "https://localhost:8080/",
          "height": 367
        },
        "id": "wc8u6npFsrLf",
        "outputId": "6bd708e5-f876-410a-a26e-77edf75476ea"
      },
      "source": [
        "\n",
        "# USAGE\n",
        "# python detect_mask_image.py --image examples/example_01.png\n",
        "\n",
        "# import the necessary packages\n",
        "import tensorflow as tf\n",
        "import numpy as np\n",
        "import argparse\n",
        "import cv2\n",
        "import os\n",
        "from keras_facenet import FaceNet\n",
        "import pickle\n",
        "tf.compat.v1.logging.set_verbosity(tf.compat.v1.logging.ERROR)\n",
        "from google.colab.patches import cv2_imshow\n",
        "\n",
        "\n",
        "# construct the argument parser and parse the argumen#ts\n",
        "#ap = argparse.ArgumentParser()\n",
        "#ap.add_argument(\"-i\", \"--image\", required=True,\n",
        "\t#help=\"path to input image\")\n",
        "#ap.add_argument(\"-f\", \"--face\", type=str,\n",
        "#\tdefault=\"face_detector\",\n",
        "#\thelp=\"path to face detector model directory\")\n",
        "#ap.add_argument(\"-m\", \"--model\", type=str,\n",
        "\t#default=\"mask_detector.model\",\n",
        "\t#help=\"path to trained face mask detector model\")\n",
        "#ap.add_argument(\"-c\", \"--confidence\", type=float, default=0.5,\n",
        "#\thelp=\"minimum probability to filter weak detections\")\n",
        "#args = vars(ap.parse_args())\n",
        "\n",
        "def pred_mask(image):\n",
        "  img=cv2.imread(image)\n",
        "  faces_array_train = face_detect_model.extract(image, threshold=0.95)\n",
        "  for j in range(len(faces_array_train)):\n",
        "      face_embed_dict=faces_array_train[j]\n",
        "      face_embed=face_embed_dict['embedding']\n",
        "      face_confidence=face_embed_dict['confidence']\n",
        "      face_box=face_embed_dict['box']\n",
        "      embed_list_test.append(face_embed)\n",
        "      face_box_list.append(face_box)\n",
        "      face_confidence_list.append(face_confidence)\n",
        "  #print(face_box_list)\n",
        "\n",
        "  face=np.array(embed_list_test)\n",
        "  #print(len(face))\n",
        "  k=0\n",
        "  label_list=[]\n",
        "  proba_list=[]\n",
        "  box_list=[]\n",
        "  for i in face:\n",
        "    #print(len(i))\n",
        "    i=i.reshape(1,-1)\n",
        "    #print(len(i))\n",
        "    label_pred = model.predict(i)\n",
        "    proba = model.predict_proba(i)\n",
        "    if label_pred == 0:\n",
        "        label = \"Mask\"\n",
        "    else:\n",
        "        label= \"No Mask\"\n",
        "\n",
        "    if label=='Mask':\n",
        "      proba= proba[0][0]\n",
        "    else:\n",
        "      proba=proba[0][1]\n",
        "\n",
        "    #color = (0, 255, 0) if label == \"Mask\" else (0, 0, 255)\n",
        "    #print(face_box_list)\n",
        "    box=face_box_list[k]\n",
        "    box_list.append(box)\n",
        "    label_list.append(label)\n",
        "    proba_list.append(proba)\n",
        "    k=k+1\n",
        "    #Y=face_box_list[k][0][1]\n",
        "    #w=face_box_list]k][0][2]\n",
        "    #h=face_box_list[k][0][3]\n",
        "    #(X, Y) = max(0, X), max(0, Y)\n",
        "    #endX = max(w - 1, X+w)\n",
        "    #endY= max(h - 1, Y+h)\n",
        "    #include the probability in the label\n",
        "    #label = \"{}: {:.2f}%\".format(label, proba * 100)\n",
        "    #print(label)\n",
        "  #ret_list=[]\n",
        "  #ret_list.append(box_list)\n",
        "  #ret_list.append(label_list)\n",
        "  #ret_list.append(proba_list)\n",
        "  return img,box_list,label_list,proba_list\n",
        "\n",
        "if __name__ == \"__main__\":\n",
        "  #load facenet models\n",
        "  print(\"[INFO] loading face detector model...\")\n",
        "  face_detect_model=FaceNet()\n",
        "\n",
        "  #load mask classifier models\n",
        "  print(\"[INFO] loading face mask detector model...\")\n",
        "  #model = load_model(args[\"model\"])\n",
        "  model = pickle.load(open('/content/drive/MyDrive/project2/models/svm_keral_classifier_final_model.sav', 'rb'))\n",
        "\n",
        "  embed_list_test=[]\n",
        "  face_box_list=[]\n",
        "  face_confidence_list=[]\n",
        "\n",
        "  # load the input image from disk\n",
        "  image = '/content/drive/MyDrive/project2/Input/test/without_mask/116.jpg'\n",
        "  \n",
        "  img,box_list,label_list,proba_list=pred_mask(image)\n",
        "  #print(result)\n",
        "  k=0\n",
        "  #print(len(label_list))\n",
        "  for i in range(len(label_list)):\n",
        "    #print(result[k])\n",
        "    #print(i)\n",
        "    #print(box_list)\n",
        "    box=box_list[i]\n",
        "    #print(box)\n",
        "    label=label_list[i]\n",
        "    #print(label)\n",
        "    proba=proba_list[i]\n",
        "    #print(proba)\n",
        "    color = (0, 255, 0) if label == \"Mask\" else (0, 0, 255)\n",
        "    #print(box)\n",
        "    X=box[0]\n",
        "    Y=box[1]\n",
        "    w=box[2]\n",
        "    h=box[3]\n",
        "    (X, Y) = max(0, X), max(0, Y)\n",
        "    endX = max(w - 1, X+w)\n",
        "    endY= max(h - 1, Y+h)\n",
        "    #if label=='Mask':\n",
        "    #  proba= proba[0][0]\n",
        "    #else:\n",
        "    #  proba=proba[0][1]\n",
        "    #include the probability in the label\n",
        "    label = \"{}: {:.2f}%\".format(label, proba * 100)\n",
        "    print(label)\n",
        "    cv2.putText(img, label, (X, Y - 10),\n",
        "    cv2.FONT_HERSHEY_SIMPLEX, 0.45, color, 2)\n",
        "    cv2.rectangle(img, (X, Y), (endX, endY), color, 2)\n",
        "    k=k+1\n",
        "\n",
        "  # show the output image\n",
        "  cv2_imshow(img)\n",
        "  cv2.waitKey(0)"
      ],
      "execution_count": 6,
      "outputs": [
        {
          "output_type": "stream",
          "text": [
            "[INFO] loading face detector model...\n",
            "[INFO] loading face mask detector model...\n",
            "No Mask: 99.73%\n"
          ],
          "name": "stdout"
        },
        {
          "output_type": "display_data",
          "data": {
            "image/png": "[encoded data removed]",
            "text/plain": [
              "<PIL.Image.Image image mode=RGB size=300x300 at 0x7F4B1F329A90>"
            ]
          },
          "metadata": {
            "tags": []
          }
        }
      ]
    },
    {
      "cell_type": "code",
      "metadata": {
        "colab": {
          "base_uri": "https://localhost:8080/"
        },
        "id": "BWpCgRDJG661",
        "outputId": "3ba7a8fc-97ef-439e-cf75-5fc639a1fcca"
      },
      "source": [
        "# USAGE\n",
        "# python detect_mask_image.py --image examples/example_01.png\n",
        "\n",
        "# import the necessary packages\n",
        "import tensorflow as tf\n",
        "import numpy as np\n",
        "import argparse\n",
        "import cv2\n",
        "import os\n",
        "from keras_facenet import FaceNet\n",
        "import pickle\n",
        "tf.compat.v1.logging.set_verbosity(tf.compat.v1.logging.ERROR)\n",
        "#from google.colab.patches import cv2_imshow\n",
        "import cv2\n",
        "#from imutils.video import VideoStream\n",
        "import time\n",
        "import imutils\n",
        "\n",
        "\n",
        "def pred_mask(image):\n",
        "  faces_array_train = face_detect_model.extract(image, threshold=0.95)\n",
        "  for j in range(len(faces_array_train)):\n",
        "      face_embed_dict=faces_array_train[j]\n",
        "      face_embed=face_embed_dict['embedding']\n",
        "      face_confidence=face_embed_dict['confidence']\n",
        "      face_box=face_embed_dict['box']\n",
        "      embed_list_test.append(face_embed)\n",
        "      face_box_list.append(face_box)\n",
        "      face_confidence_list.append(face_confidence)\n",
        "\n",
        "  face=np.array(embed_list_test)\n",
        "  k=0\n",
        "  label_list=[]\n",
        "  proba_list=[]\n",
        "  box_list=[]\n",
        "  for i in face:\n",
        "    i=i.reshape(1,-1)\n",
        "    label_pred = model.predict(i)\n",
        "    proba = model.predict_proba(i)\n",
        "    if label_pred == 0:\n",
        "        label = \"Mask\"\n",
        "    else:\n",
        "        label= \"No Mask\"\n",
        "\n",
        "    if label=='Mask':\n",
        "      proba= proba[0][0]\n",
        "    else:\n",
        "      proba=proba[0][1]\n",
        "\n",
        "    box=face_box_list[k]\n",
        "    box_list.append(box)\n",
        "    label_list.append(label)\n",
        "    proba_list.append(proba)\n",
        "    k=k+1\n",
        "\n",
        "  return image,box_list,label_list,proba_list\n",
        "\n",
        "if __name__ == \"__main__\":\n",
        "  #load facenet models\n",
        "  print(\"[INFO] loading face detector model...\")\n",
        "  face_detect_model=FaceNet()\n",
        "\n",
        "  #load mask classifier models\n",
        "  print(\"[INFO] loading face mask detector model...\")\n",
        "  #model = load_model(args[\"model\"])\n",
        "  model = pickle.load(open('/d/project2/models/svm_keral_classifier_final_model.sav', 'rb'))\n",
        "\n",
        "  embed_list_test=[]\n",
        "  face_box_list=[]\n",
        "  face_confidence_list=[]\n",
        "\n",
        "  # load the input image from disk\n",
        "  #image = '/content/drive/MyDrive/project2/Input/test/without_mask/116.jpg'\n",
        "\n",
        "  # initialize the video stream and allow the camera sensor to warm up\n",
        "  print(\"[INFO] starting video stream...\")\n",
        "  #vs = VideoStream(src=0).start()\n",
        "  cap = cv2.VideoCapture(0)\n",
        "  #time.sleep(2.0)\n",
        "  cap.set(3,640)#width\n",
        "  cap.set(4,480)#height\n",
        "  cap.set(10,100)#brightness  \n",
        "  \n",
        "  # loop over the frames from the video stream\n",
        "  while True:\n",
        "    # Capture frame-by-frame\n",
        "    ret, frame = cap.read()\n",
        "    print(frame)\n",
        "    if ret:\n",
        "      assert not isinstance(frame,type(None)), 'frame not found'\n",
        "\n",
        "    frame = imutils.resize(frame,width=400)\n",
        "    img,box_list,label_list,proba_list=pred_mask(frame)\n",
        "    k=0\n",
        "    for i in range(len(label_list)):\n",
        "      box=box_list[i]\n",
        "      label=label_list[i]\n",
        "      proba=proba_list[i]\n",
        "      color = (0, 255, 0) if label == \"Mask\" else (0, 0, 255)\n",
        "      X=box[0]\n",
        "      Y=box[1]\n",
        "      w=box[2]\n",
        "      h=box[3]\n",
        "      (X, Y) = max(0, X), max(0, Y)\n",
        "      endX = max(w - 1, X+w)\n",
        "      endY= max(h - 1, Y+h)\n",
        "      label = \"{}: {:.2f}%\".format(label, proba * 100)\n",
        "      print(label)\n",
        "      cv2.putText(img, label, (X, Y - 10),\n",
        "      cv2.FONT_HERSHEY_SIMPLEX, 0.45, color, 2)\n",
        "      cv2.rectangle(img, (X, Y), (endX, endY), color, 2)\n",
        "      k=k+1\n",
        "\n",
        "      # show the output image\n",
        "      cv2.imshow(' ',img)\n",
        "      cv2.waitKey(0)\n",
        "      key = cv2.waitKey(1) & 0xFF\n",
        "      if key == ord(\"q\"):\n",
        "        break\n",
        "# do a bit of cleanup\n",
        "cv2.destroyAllWindows()\n",
        "cap.release()  "
      ],
      "execution_count": 11,
      "outputs": [
        {
          "output_type": "stream",
          "name": "stdout",
          "text": [
            "[INFO] loading face detector model...\n",
            "[INFO] loading face mask detector model...\n",
            "[INFO] starting video stream...\n",
            "Mask: 72.90%\n"
          ]
        }
      ]
    },
    {
      "cell_type": "code",
      "execution_count": null,
      "metadata": {},
      "outputs": [],
      "source": []
    },
    {
      "cell_type": "code",
      "metadata": {
        "colab": {
          "base_uri": "https://localhost:8080/"
        },
        "id": "KcsOMratJ07K",
        "outputId": "5f51072b-75c8-4060-b138-77653535bebc"
      },
      "source": [
        "!pip install imutils"
      ],
      "execution_count": 9,
      "outputs": [
        {
          "output_type": "stream",
          "text": [
            "Requirement already satisfied: imutils in /usr/local/lib/python3.7/dist-packages (0.5.4)\n"
          ],
          "name": "stdout"
        }
      ]
    }
  ]
}