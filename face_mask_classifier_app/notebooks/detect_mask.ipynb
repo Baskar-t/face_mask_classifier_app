{
 "metadata": {
  "language_info": {
   "codemirror_mode": {
    "name": "ipython",
    "version": 3
   },
   "file_extension": ".py",
   "mimetype": "text/x-python",
   "name": "python",
   "nbconvert_exporter": "python",
   "pygments_lexer": "ipython3",
   "version": "3.8.5"
  },
  "orig_nbformat": 4,
  "kernelspec": {
   "name": "python3",
   "display_name": "Python 3.8.5 64-bit ('localPythonEnv': venv)"
  },
  "interpreter": {
   "hash": "1d4c39e84a00ae3132ad252464a9436a57793414910ce0cf60240e4a7f673481"
  }
 },
 "nbformat": 4,
 "nbformat_minor": 2,
 "cells": [
  {
   "cell_type": "code",
   "execution_count": 1,
   "source": [
    "import tensorflow as tf\n",
    "import numpy as np\n",
    "import argparse\n",
    "import cv2\n",
    "import os\n",
    "from keras_facenet import FaceNet\n",
    "import pickle\n",
    "tf.compat.v1.logging.set_verbosity(tf.compat.v1.logging.ERROR)\n",
    "\n",
    "#load facenet models\n",
    "print(\"[INFO] loading face detector model...\")\n",
    "face_detect_model=FaceNet()\n",
    "\n",
    "#load mask classifier models\n",
    "print(\"[INFO] loading face mask detector model...\")\n",
    "#model = load_model(args[\"model\"])\n",
    "model = pickle.load(open('/d/project2/models/svm_keral_classifier_final_model.sav', 'rb'))\n",
    "\n",
    "embed_list_test=[]\n",
    "face_box_list=[]\n",
    "face_confidence_list=[]\n",
    "\n",
    "# load the input image from disk\n",
    "image = '/d/project2/Input/test/with_mask/1-with-mask.jpg'\n",
    "img=cv2.imread('/d/project2/Input/test/with_mask/1-with-mask.jpg')\n",
    "faces_array_train = face_detect_model.extract(image, threshold=0.95)\n",
    "for j in range(len(faces_array_train)):\n",
    "    face_embed_dict=faces_array_train[j]\n",
    "    face_embed=face_embed_dict['embedding']\n",
    "    face_confidence=face_embed_dict['confidence']\n",
    "    face_box=face_embed_dict['box']\n",
    "    embed_list_test.append(face_embed)\n",
    "    face_box_list.append(face_box)\n",
    "    face_confidence_list.append(face_confidence)\n",
    "\n",
    "face=np.array(embed_list_test)\n",
    "#for i in range(len(face)):\n",
    "label_pred = model.predict(face)\n",
    "proba = model.predict_proba(face)\n",
    "if label_pred == 0:\n",
    "    label = \"Mask\"\n",
    "else:\n",
    "    label= \"No Mask\"\n",
    "color = (0, 255, 0) if label == \"Mask\" else (0, 0, 255)\n",
    "X=face_box_list[0][0]\n",
    "Y=face_box_list[0][1]\n",
    "w=face_box_list[0][2]\n",
    "h=face_box_list[0][3]\n",
    "(X, Y) = max(0, X), max(0, Y)\n",
    "endX = min(w - 1, w)\n",
    "endY= min(h - 1, h)\n",
    "#include the probability in the label\n",
    "label = \"{}: {:.2f}%\".format(label, proba[0][0] * 100)\n",
    "print(label)\n",
    "cv2.putText(img, label, (X, Y - 10),\n",
    "cv2.FONT_HERSHEY_SIMPLEX, 0.45, color, 2)\n",
    "cv2.rectangle(img, (X, Y), (endX, endY), color, 2)\n",
    "\n",
    "# show the output image\n",
    "cv2.imshow(\"Output\", img)\n",
    "cv2.waitKey(0)"
   ],
   "outputs": [
    {
     "output_type": "stream",
     "name": "stdout",
     "text": [
      "[INFO] loading face detector model...\n",
      "[INFO] loading face mask detector model...\n"
     ]
    }
   ],
   "metadata": {}
  },
  {
   "cell_type": "code",
   "execution_count": null,
   "source": [],
   "outputs": [],
   "metadata": {}
  }
 ]
}