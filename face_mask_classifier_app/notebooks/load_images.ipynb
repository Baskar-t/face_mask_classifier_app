{
 "metadata": {
  "language_info": {
   "codemirror_mode": {
    "name": "ipython",
    "version": 3
   },
   "file_extension": ".py",
   "mimetype": "text/x-python",
   "name": "python",
   "nbconvert_exporter": "python",
   "pygments_lexer": "ipython3",
   "version": "3.9.5"
  },
  "orig_nbformat": 2,
  "kernelspec": {
   "name": "python3",
   "display_name": "Python 3.9.5 64-bit"
  },
  "interpreter": {
   "hash": "63fd5069d213b44bf678585dea6b12cceca9941eaf7f819626cde1f2670de90d"
  }
 },
 "nbformat": 4,
 "nbformat_minor": 2,
 "cells": [
  {
   "cell_type": "code",
   "execution_count": 3,
   "metadata": {},
   "outputs": [
    {
     "output_type": "error",
     "ename": "ModuleNotFoundError",
     "evalue": "No module named 'pandas'",
     "traceback": [
      "\u001b[1;31m---------------------------------------------------------------------------\u001b[0m",
      "\u001b[1;31mModuleNotFoundError\u001b[0m                       Traceback (most recent call last)",
      "\u001b[1;32m<ipython-input-3-1562019a4e67>\u001b[0m in \u001b[0;36m<module>\u001b[1;34m\u001b[0m\n\u001b[0;32m      1\u001b[0m \u001b[1;32mimport\u001b[0m \u001b[0mos\u001b[0m\u001b[1;33m\u001b[0m\u001b[1;33m\u001b[0m\u001b[0m\n\u001b[1;32m----> 2\u001b[1;33m \u001b[1;32mimport\u001b[0m \u001b[0mpandas\u001b[0m \u001b[1;32mas\u001b[0m \u001b[0mpd\u001b[0m\u001b[1;33m\u001b[0m\u001b[1;33m\u001b[0m\u001b[0m\n\u001b[0m",
      "\u001b[1;31mModuleNotFoundError\u001b[0m: No module named 'pandas'"
     ]
    }
   ],
   "source": [
    "import os\n",
    "import pandas as pd "
   ]
  },
  {
   "cell_type": "code",
   "execution_count": 3,
   "metadata": {},
   "outputs": [],
   "source": [
    "BASE_DIR='/content/drive/MyDrive/project2/Input/'\n",
    "train_folder=BASE_DIR+'train/'\n",
    "test_folder=BASE_DIR+'test/'\n",
    "val_folder=BASE_DIR+'val/'\n",
    "train_annotation1=train_folder+'with_mask/'\n",
    "train_annotation2=train_folder+'without_mask/'\n",
    "test_annotation1=test_folder+'with_mask/'\n",
    "test_annotation2=test_folder+'without_mask/'\n",
    "val_annotation1=val_folder+'with_mask/'\n",
    "val_annotation2=val_folder+'without_mask/'\n",
    "\n",
    "files_in_train_annotated1 = sorted(os.listdir(train_annotation1))\n",
    "files_in_train_annotated2 = sorted(os.listdir(train_annotation2))\n",
    "files_in_test_annotated1 = sorted(os.listdir(test_annotation1))\n",
    "files_in_test_annotated2 = sorted(os.listdir(test_annotation2))\n",
    "files_in_val_annotated1 = sorted(os.listdir(val_annotation1))\n",
    "files_in_val_annotated2 = sorted(os.listdir(val_annotation2))\n",
    "\n",
    "#images_train1=[i for i in files_in_train_annotated1]\n",
    "\n",
    "df_train_1 = pd.DataFrame()\n",
    "df_train_1['images']=[train_annotation1 + str(x) for x in files_in_train_annotated1]\n",
    "df_train_1['labels']='with_mask'\n",
    "\n",
    "##print(df_train_1['images'])\n",
    "\n",
    "#images_train2=[i for i in files_in_train_annotated2]\n",
    "df_train_2 = pd.DataFrame()\n",
    "df_train_2['images']=[train_annotation2 + str(x) for x in files_in_train_annotated2]\n",
    "df_train_2['labels']='without_mask'\n",
    "df_train=pd.concat([df_train_1,df_train_2])\n",
    "df_train.to_csv('train.csv', header=None,index=None)\n",
    "\n",
    "#images_test1=[i for i in files_in_test_annotated1]\n",
    "df_test_1 = pd.DataFrame()\n",
    "df_test_1['images']=[test_annotation1 + str(x) for x in files_in_test_annotated1]\n",
    "df_test_1['labels']='with_mask'\n",
    "#df_test_1.to_csv('val1.csv', header=None)\n",
    "\n",
    "#images_test2=[i for i in files_in_test_annotated2]\n",
    "df_test_2 = pd.DataFrame()\n",
    "df_test_2['images']=[test_annotation2 + str(x) for x in files_in_test_annotated2]\n",
    "df_test_2['labels']='without_mask'\n",
    "df_test=pd.concat([df_test_1 , df_test_2])\n",
    "df_test.to_csv('test.csv', header=None,index=None)\n",
    "\n",
    "#images_val1=[i for i in files_in_val_annotated1]\n",
    "df_val_1 = pd.DataFrame()\n",
    "df_val_1['images']=[val_annotation1 + str(x) for x in files_in_val_annotated1]\n",
    "df_val_1['labels']='with_mask'\n",
    "\n",
    "#images_val2=[i for i in files_in_val_annotated2]\n",
    "df_val_2 = pd.DataFrame()\n",
    "df_val_2['images']=[val_annotation2 + str(x) for x in files_in_val_annotated2]\n",
    "df_val_2['labels']='without_mask'\n",
    "df_val=pd.concat([df_val_1 , df_val_2])\n",
    "df_val.to_csv('val.csv', header=None,index=None)"
   ]
  },
  {
   "cell_type": "code",
   "execution_count": null,
   "metadata": {},
   "outputs": [],
   "source": []
  }
 ]
}